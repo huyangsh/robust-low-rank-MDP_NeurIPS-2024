{
 "cells": [
  {
   "metadata": {},
   "cell_type": "markdown",
   "source": "# Pendulum"
  },
  {
   "cell_type": "code",
   "metadata": {
    "collapsed": true,
    "ExecuteTime": {
     "end_time": "2024-05-19T21:50:28.299454Z",
     "start_time": "2024-05-19T21:45:48.675092Z"
    }
   },
   "source": [
    "from eval_v2_robust import eval_robust\n",
    "\n",
    "file_paths = [] # Fill in training results\n",
    "dfs = []\n",
    "labels = ['Robust-SDEC-0.5', 'Robust-SDEC-0.5', 'Robust-SDEC-0.5', 'SDEC']\n",
    "for i, file_path in enumerate(file_paths):\n",
    "    df = eval_robust(file_path)\n",
    "    df['Algorithm'] = labels[i]"
   ],
   "outputs": [
    {
     "name": "stdout",
     "output_type": "stream",
     "text": [
      "0.2\n",
      "---------------------------------------\n",
      "Evaluation over 50 episodes: avg eplen 200.0, avg return -99.362 $\\pm$ 58.630\n",
      "---------------------------------------\n",
      "0.6000000000000001\n",
      "---------------------------------------\n",
      "Evaluation over 50 episodes: avg eplen 200.0, avg return -168.822 $\\pm$ 107.635\n",
      "---------------------------------------\n",
      "1.0\n",
      "---------------------------------------\n",
      "Evaluation over 50 episodes: avg eplen 200.0, avg return -249.312 $\\pm$ 180.559\n",
      "---------------------------------------\n",
      "1.4000000000000001\n",
      "---------------------------------------\n",
      "Evaluation over 50 episodes: avg eplen 200.0, avg return -404.696 $\\pm$ 275.693\n",
      "---------------------------------------\n",
      "1.8\n",
      "---------------------------------------\n",
      "Evaluation over 50 episodes: avg eplen 200.0, avg return -485.387 $\\pm$ 347.122\n",
      "---------------------------------------\n",
      "0.2\n",
      "---------------------------------------\n",
      "Evaluation over 50 episodes: avg eplen 200.0, avg return -139.769 $\\pm$ 154.716\n",
      "---------------------------------------\n",
      "0.6000000000000001\n",
      "---------------------------------------\n",
      "Evaluation over 50 episodes: avg eplen 200.0, avg return -345.869 $\\pm$ 525.675\n",
      "---------------------------------------\n",
      "1.0\n",
      "---------------------------------------\n",
      "Evaluation over 50 episodes: avg eplen 200.0, avg return -416.494 $\\pm$ 550.799\n",
      "---------------------------------------\n",
      "1.4000000000000001\n",
      "---------------------------------------\n",
      "Evaluation over 50 episodes: avg eplen 200.0, avg return -483.585 $\\pm$ 565.808\n",
      "---------------------------------------\n",
      "1.8\n",
      "---------------------------------------\n",
      "Evaluation over 50 episodes: avg eplen 200.0, avg return -576.052 $\\pm$ 571.413\n",
      "---------------------------------------\n",
      "0.2\n",
      "---------------------------------------\n",
      "Evaluation over 50 episodes: avg eplen 200.0, avg return -161.682 $\\pm$ 351.690\n",
      "---------------------------------------\n",
      "0.6000000000000001\n",
      "---------------------------------------\n",
      "Evaluation over 50 episodes: avg eplen 200.0, avg return -227.714 $\\pm$ 350.692\n",
      "---------------------------------------\n",
      "1.0\n",
      "---------------------------------------\n",
      "Evaluation over 50 episodes: avg eplen 200.0, avg return -293.781 $\\pm$ 359.723\n",
      "---------------------------------------\n",
      "1.4000000000000001\n",
      "---------------------------------------\n",
      "Evaluation over 50 episodes: avg eplen 200.0, avg return -369.236 $\\pm$ 389.217\n",
      "---------------------------------------\n",
      "1.8\n",
      "---------------------------------------\n",
      "Evaluation over 50 episodes: avg eplen 200.0, avg return -442.216 $\\pm$ 425.871\n",
      "---------------------------------------\n",
      "0.2\n",
      "---------------------------------------\n",
      "Evaluation over 50 episodes: avg eplen 200.0, avg return -84.878 $\\pm$ 53.702\n",
      "---------------------------------------\n",
      "0.6000000000000001\n",
      "---------------------------------------\n",
      "Evaluation over 50 episodes: avg eplen 200.0, avg return -166.715 $\\pm$ 104.356\n",
      "---------------------------------------\n",
      "1.0\n",
      "---------------------------------------\n",
      "Evaluation over 50 episodes: avg eplen 200.0, avg return -244.355 $\\pm$ 172.736\n",
      "---------------------------------------\n",
      "1.4000000000000001\n",
      "---------------------------------------\n",
      "Evaluation over 50 episodes: avg eplen 200.0, avg return -329.622 $\\pm$ 246.939\n",
      "---------------------------------------\n",
      "1.8\n",
      "---------------------------------------\n",
      "Evaluation over 50 episodes: avg eplen 200.0, avg return -734.037 $\\pm$ 239.829\n",
      "---------------------------------------\n"
     ]
    }
   ],
   "execution_count": 10
  },
  {
   "cell_type": "code",
   "source": [
    "import pandas as pd\n",
    "import seaborn as sns\n",
    "import matplotlib.pyplot as plt\n",
    "df = pd.concat(dfs, ignore_index=True)\n",
    "plt.figure(figsize=[10,10])\n",
    "sns.set(font_scale=3)\n",
    "sns.lineplot(data=df, x='m', y='rets', hue='Algorithm')\n",
    "plt.title()\n",
    "plt.xlabel('Perturbation Ratio')\n",
    "plt.ylabel('Expected Returns')\n",
    "plt.savefig('./pendulum_robust.pdf')"
   ],
   "metadata": {
    "collapsed": false
   },
   "outputs": [],
   "execution_count": null
  }
 ],
 "metadata": {
  "kernelspec": {
   "display_name": "Python 3",
   "language": "python",
   "name": "python3"
  },
  "language_info": {
   "codemirror_mode": {
    "name": "ipython",
    "version": 2
   },
   "file_extension": ".py",
   "mimetype": "text/x-python",
   "name": "python",
   "nbconvert_exporter": "python",
   "pygments_lexer": "ipython2",
   "version": "2.7.6"
  }
 },
 "nbformat": 4,
 "nbformat_minor": 0
}
